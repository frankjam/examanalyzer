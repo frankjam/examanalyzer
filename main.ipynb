{
 "cells": [
  {
   "cell_type": "markdown",
   "metadata": {},
   "source": [
    "libraries in use "
   ]
  },
  {
   "cell_type": "code",
   "execution_count": 114,
   "metadata": {},
   "outputs": [],
   "source": [
    "import os \n",
    "import pandas as pd \n",
    "import numpy as np"
   ]
  },
  {
   "cell_type": "markdown",
   "metadata": {},
   "source": [
    "file location constants "
   ]
  },
  {
   "cell_type": "code",
   "execution_count": 115,
   "metadata": {},
   "outputs": [],
   "source": [
    "rawDataPath = './data/unprocessed/'\n",
    "erpSummaryPath ='./data/processed/'"
   ]
  },
  {
   "cell_type": "markdown",
   "metadata": {},
   "source": [
    "generate number of students who passes or failes or need to do a supplementary \n",
    "includes their admission number "
   ]
  },
  {
   "cell_type": "code",
   "execution_count": 116,
   "metadata": {},
   "outputs": [],
   "source": [
    "def readErpSummary(file):\n",
    "    #read from sheet number 3 erp summary\n",
    "    df = pd.read_excel(file,sheet_name=2)\n",
    "\n",
    "    #rename top heading column\n",
    "    df.rename(columns = {'CAT':'CA', 'UNIT CODE':'UNIT_CODE' }, inplace = True) \n",
    "    \n",
    "    unit_code = df['UNIT_CODE'][0]\n",
    "\n",
    "    #null exam and cat values extract \n",
    "    nan_ca_exam_values  =  df[df['EXAM'].isnull() & df['CA'].isnull() ]\n",
    "    #Remove the null cat and exam rows \n",
    "    df.dropna(subset=['EXAM','CA'], inplace=True)\n",
    "    \n",
    "    #null cat or exam values extract \n",
    "    nan_ca_values       =  df[df['CA'].isnull()]\n",
    "    nan_exam_values     =  df[df['EXAM'].isnull()]\n",
    "    #Remove the null cat and exam rows \n",
    "    df.dropna(subset=['EXAM'], inplace=True)\n",
    "    df.dropna(subset=['CA'], inplace=True)\n",
    "    \n",
    "    #all units with cat and exam results \n",
    "    df[\"TOTAL_100%\"] = df[\"CA\"] + df[\"EXAM\"]\n",
    "\n",
    "    distinction_list = df[df['TOTAL_100%'].between(69, 101)]\n",
    "    credit_list = df[df['TOTAL_100%'].between(59, 69)]\n",
    "    pass_list = df[df['TOTAL_100%'].between(49,59)]\n",
    "    supplementary_list = df[df['TOTAL_100%'].between(39,50)]\n",
    "    retake_list = df[df['TOTAL_100%'].between(-1,40)]\n",
    "\n",
    "    # Customize the export settings\n",
    "    custom_header = ['distinction', 'credit', 'pass', 'supplementary','retake']\n",
    "    count_data = {\n",
    "    'distinction': [len(distinction_list)],\n",
    "    'credit':[ len(credit_list)],\n",
    "    'pass': [len(pass_list)],\n",
    "    'supplementary':[len(supplementary_list) + len(nan_exam_values) ],\n",
    "    'retake': [len(retake_list) + len(nan_ca_values) ]\n",
    "    } \n",
    "    \n",
    "    \n",
    "    statitstics = pd.DataFrame(count_data)\n",
    "    \n",
    "    #log to excel file info\n",
    "    with pd.ExcelWriter(f'{erpSummaryPath}/{unit_code}.xlsx',mode='w') as excel_writer:\n",
    "        statitstics.to_excel(excel_writer, sheet_name='Sheet1', index=False)\n",
    "        \n",
    "        if(len(retake_list) > 0):\n",
    "            retake_students_info = pd.DataFrame(retake_list)\n",
    "            retake_students_info.to_excel(excel_writer, sheet_name='Sheet2', index=False)\n",
    "        \n",
    "        if(len(supplementary_list) > 0):\n",
    "            supplementary_Students_info = pd.DataFrame(supplementary_list)\n",
    "            supplementary_Students_info.to_excel(excel_writer, sheet_name='Sheet3', index=False)\n",
    "    \n",
    "    print(statitstics)"
   ]
  },
  {
   "cell_type": "markdown",
   "metadata": {},
   "source": [
    "List the raw data files containing the results \n",
    "Generate a summary based on the file "
   ]
  },
  {
   "cell_type": "code",
   "execution_count": null,
   "metadata": {},
   "outputs": [],
   "source": [
    "def list_files_recursive(path):\n",
    "    for root, dirs, files in os.walk(path):\n",
    "        for file in files:\n",
    "            print(file)\n",
    "            #process the summary \n",
    "            readErpSummary(os.path.join(root, file))\n",
    "\n",
    "\n",
    "list_files_recursive(rawDataPath)"
   ]
  }
 ],
 "metadata": {
  "kernelspec": {
   "display_name": "examsummary",
   "language": "python",
   "name": "python3"
  },
  "language_info": {
   "codemirror_mode": {
    "name": "ipython",
    "version": 3
   },
   "file_extension": ".py",
   "mimetype": "text/x-python",
   "name": "python",
   "nbconvert_exporter": "python",
   "pygments_lexer": "ipython3",
   "version": "3.10.12"
  }
 },
 "nbformat": 4,
 "nbformat_minor": 2
}
