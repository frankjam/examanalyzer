{
 "cells": [
  {
   "cell_type": "code",
   "execution_count": 13,
   "metadata": {},
   "outputs": [],
   "source": [
    "import os \n",
    "import pandas as pd \n",
    "import numpy as np"
   ]
  },
  {
   "cell_type": "code",
   "execution_count": 14,
   "metadata": {},
   "outputs": [],
   "source": [
    "def removeSpaces():\n",
    "    # List all files in the current working directory\n",
    "    files = os.listdir(\"data\")\n",
    "    i = 1\n",
    "    for file in files:\n",
    "        #new_name = file.replace(\" \",\"_\")\n",
    "        os.rename(file, f' {i}')\n",
    "        i += 1"
   ]
  },
  {
   "cell_type": "code",
   "execution_count": 130,
   "metadata": {},
   "outputs": [],
   "source": [
    "def readErpSummary(file):\n",
    "    df = pd.read_excel(file,sheet_name=2)\n",
    "    unit_code = df['UNIT CODE'][0]\n",
    "    print(df)\n",
    "    \n",
    "    df[\"TOTAL_100%\"] = df[\"CAT\"] + df[\"EXAM\"]\n",
    "\n",
    "    distinction_list = df[df['TOTAL_100%'].between(69, 101)]\n",
    "    credit_list = df[df['TOTAL_100%'].between(59, 69)]\n",
    "    pass_list = df[df['TOTAL_100%'].between(49,59)]\n",
    "    \n",
    "    supplementary_list = df[df['TOTAL_100%'].between(39,50)]\n",
    "    retake_list = df[df['TOTAL_100%'].between(-1,40)]\n",
    "\n",
    "    # Customize the export settings\n",
    "    custom_header = ['distinction', 'credit', 'pass', 'supplementary','retake']\n",
    "    count_data = {\n",
    "    'distinction': [len(distinction_list)],\n",
    "    'credit':[ len(credit_list)],\n",
    "    'pass': [len(pass_list)],\n",
    "    'supplementary':[len(supplementary_list)],\n",
    "    'retake': [len(retake_list)]\n",
    "    } \n",
    "    \n",
    "    statitstics = pd.DataFrame(count_data)\n",
    "    \n",
    "    #log to excel file info\n",
    "    with pd.ExcelWriter(f'./processed/{unit_code}output.xlsx',mode='w') as excel_writer:\n",
    "        statitstics.to_excel(excel_writer, sheet_name='Sheet1', index=False)\n",
    "        \n",
    "        if(len(retake_list) > 0):\n",
    "            retake_students_info = pd.DataFrame(retake_list)\n",
    "            retake_students_info.to_excel(excel_writer, sheet_name='Sheet2', index=False)\n",
    "        \n",
    "        if(len(supplementary_list) > 0):\n",
    "            supplementary_Students_info = pd.DataFrame(supplementary_list)\n",
    "            supplementary_Students_info.to_excel(excel_writer, sheet_name='Sheet3', index=False)\n",
    "    \n",
    "    print(statitstics)"
   ]
  },
  {
   "cell_type": "code",
   "execution_count": 134,
   "metadata": {},
   "outputs": [
    {
     "name": "stdout",
     "output_type": "stream",
     "text": [
      "/home/frank/Desktop/WEB/projects/examsum/data\n",
      "        STUDENT_NO         TRIMESTER  UNIT CODE   CAT  EXAM\n",
      "0  CIT-3483-3/2023  TRIMESTER 3 2023  ITCR  055  30.0  43.0\n",
      "1  CIT-3182-3/2023  TRIMESTER 3 2023  ITCR  055  30.0  38.0\n",
      "2  CIT-3178-3/2023  TRIMESTER 3 2023  ITCR  055   NaN   NaN\n",
      "   distinction  credit  pass  supplementary  retake\n",
      "0            1       1     0              0       0\n"
     ]
    },
    {
     "ename": "KeyError",
     "evalue": "'UNIT CODE'",
     "output_type": "error",
     "traceback": [
      "\u001b[0;31m---------------------------------------------------------------------------\u001b[0m",
      "\u001b[0;31mKeyError\u001b[0m                                  Traceback (most recent call last)",
      "File \u001b[0;32m~/Desktop/WEB/projects/examsum/examsummary/lib/python3.10/site-packages/pandas/core/indexes/base.py:3791\u001b[0m, in \u001b[0;36mIndex.get_loc\u001b[0;34m(self, key)\u001b[0m\n\u001b[1;32m   3790\u001b[0m \u001b[38;5;28;01mtry\u001b[39;00m:\n\u001b[0;32m-> 3791\u001b[0m     \u001b[38;5;28;01mreturn\u001b[39;00m \u001b[38;5;28;43mself\u001b[39;49m\u001b[38;5;241;43m.\u001b[39;49m\u001b[43m_engine\u001b[49m\u001b[38;5;241;43m.\u001b[39;49m\u001b[43mget_loc\u001b[49m\u001b[43m(\u001b[49m\u001b[43mcasted_key\u001b[49m\u001b[43m)\u001b[49m\n\u001b[1;32m   3792\u001b[0m \u001b[38;5;28;01mexcept\u001b[39;00m \u001b[38;5;167;01mKeyError\u001b[39;00m \u001b[38;5;28;01mas\u001b[39;00m err:\n",
      "File \u001b[0;32mindex.pyx:152\u001b[0m, in \u001b[0;36mpandas._libs.index.IndexEngine.get_loc\u001b[0;34m()\u001b[0m\n",
      "File \u001b[0;32mindex.pyx:181\u001b[0m, in \u001b[0;36mpandas._libs.index.IndexEngine.get_loc\u001b[0;34m()\u001b[0m\n",
      "File \u001b[0;32mpandas/_libs/hashtable_class_helper.pxi:7080\u001b[0m, in \u001b[0;36mpandas._libs.hashtable.PyObjectHashTable.get_item\u001b[0;34m()\u001b[0m\n",
      "File \u001b[0;32mpandas/_libs/hashtable_class_helper.pxi:7088\u001b[0m, in \u001b[0;36mpandas._libs.hashtable.PyObjectHashTable.get_item\u001b[0;34m()\u001b[0m\n",
      "\u001b[0;31mKeyError\u001b[0m: 'UNIT CODE'",
      "\nThe above exception was the direct cause of the following exception:\n",
      "\u001b[0;31mKeyError\u001b[0m                                  Traceback (most recent call last)",
      "Cell \u001b[0;32mIn[134], line 11\u001b[0m\n\u001b[1;32m      8\u001b[0m os\u001b[38;5;241m.\u001b[39mrename(filename, newfilename)\n\u001b[1;32m     10\u001b[0m \u001b[38;5;66;03m#call this functions \u001b[39;00m\n\u001b[0;32m---> 11\u001b[0m \u001b[43mreadErpSummary\u001b[49m\u001b[43m(\u001b[49m\u001b[43mnewfilename\u001b[49m\u001b[43m)\u001b[49m\n\u001b[1;32m     13\u001b[0m x \u001b[38;5;241m=\u001b[39m x\u001b[38;5;241m+\u001b[39m\u001b[38;5;241m1\u001b[39m\n",
      "Cell \u001b[0;32mIn[130], line 3\u001b[0m, in \u001b[0;36mreadErpSummary\u001b[0;34m(file)\u001b[0m\n\u001b[1;32m      1\u001b[0m \u001b[38;5;28;01mdef\u001b[39;00m \u001b[38;5;21mreadErpSummary\u001b[39m(file):\n\u001b[1;32m      2\u001b[0m     df \u001b[38;5;241m=\u001b[39m pd\u001b[38;5;241m.\u001b[39mread_excel(file,sheet_name\u001b[38;5;241m=\u001b[39m\u001b[38;5;241m2\u001b[39m)\n\u001b[0;32m----> 3\u001b[0m     unit_code \u001b[38;5;241m=\u001b[39m \u001b[43mdf\u001b[49m\u001b[43m[\u001b[49m\u001b[38;5;124;43m'\u001b[39;49m\u001b[38;5;124;43mUNIT CODE\u001b[39;49m\u001b[38;5;124;43m'\u001b[39;49m\u001b[43m]\u001b[49m[\u001b[38;5;241m0\u001b[39m]\n\u001b[1;32m      4\u001b[0m     \u001b[38;5;28mprint\u001b[39m(df)\n\u001b[1;32m      6\u001b[0m     df[\u001b[38;5;124m\"\u001b[39m\u001b[38;5;124mTOTAL_100\u001b[39m\u001b[38;5;124m%\u001b[39m\u001b[38;5;124m\"\u001b[39m] \u001b[38;5;241m=\u001b[39m df[\u001b[38;5;124m\"\u001b[39m\u001b[38;5;124mCAT\u001b[39m\u001b[38;5;124m\"\u001b[39m] \u001b[38;5;241m+\u001b[39m df[\u001b[38;5;124m\"\u001b[39m\u001b[38;5;124mEXAM\u001b[39m\u001b[38;5;124m\"\u001b[39m]\n",
      "File \u001b[0;32m~/Desktop/WEB/projects/examsum/examsummary/lib/python3.10/site-packages/pandas/core/frame.py:3893\u001b[0m, in \u001b[0;36mDataFrame.__getitem__\u001b[0;34m(self, key)\u001b[0m\n\u001b[1;32m   3891\u001b[0m \u001b[38;5;28;01mif\u001b[39;00m \u001b[38;5;28mself\u001b[39m\u001b[38;5;241m.\u001b[39mcolumns\u001b[38;5;241m.\u001b[39mnlevels \u001b[38;5;241m>\u001b[39m \u001b[38;5;241m1\u001b[39m:\n\u001b[1;32m   3892\u001b[0m     \u001b[38;5;28;01mreturn\u001b[39;00m \u001b[38;5;28mself\u001b[39m\u001b[38;5;241m.\u001b[39m_getitem_multilevel(key)\n\u001b[0;32m-> 3893\u001b[0m indexer \u001b[38;5;241m=\u001b[39m \u001b[38;5;28;43mself\u001b[39;49m\u001b[38;5;241;43m.\u001b[39;49m\u001b[43mcolumns\u001b[49m\u001b[38;5;241;43m.\u001b[39;49m\u001b[43mget_loc\u001b[49m\u001b[43m(\u001b[49m\u001b[43mkey\u001b[49m\u001b[43m)\u001b[49m\n\u001b[1;32m   3894\u001b[0m \u001b[38;5;28;01mif\u001b[39;00m is_integer(indexer):\n\u001b[1;32m   3895\u001b[0m     indexer \u001b[38;5;241m=\u001b[39m [indexer]\n",
      "File \u001b[0;32m~/Desktop/WEB/projects/examsum/examsummary/lib/python3.10/site-packages/pandas/core/indexes/base.py:3798\u001b[0m, in \u001b[0;36mIndex.get_loc\u001b[0;34m(self, key)\u001b[0m\n\u001b[1;32m   3793\u001b[0m     \u001b[38;5;28;01mif\u001b[39;00m \u001b[38;5;28misinstance\u001b[39m(casted_key, \u001b[38;5;28mslice\u001b[39m) \u001b[38;5;129;01mor\u001b[39;00m (\n\u001b[1;32m   3794\u001b[0m         \u001b[38;5;28misinstance\u001b[39m(casted_key, abc\u001b[38;5;241m.\u001b[39mIterable)\n\u001b[1;32m   3795\u001b[0m         \u001b[38;5;129;01mand\u001b[39;00m \u001b[38;5;28many\u001b[39m(\u001b[38;5;28misinstance\u001b[39m(x, \u001b[38;5;28mslice\u001b[39m) \u001b[38;5;28;01mfor\u001b[39;00m x \u001b[38;5;129;01min\u001b[39;00m casted_key)\n\u001b[1;32m   3796\u001b[0m     ):\n\u001b[1;32m   3797\u001b[0m         \u001b[38;5;28;01mraise\u001b[39;00m InvalidIndexError(key)\n\u001b[0;32m-> 3798\u001b[0m     \u001b[38;5;28;01mraise\u001b[39;00m \u001b[38;5;167;01mKeyError\u001b[39;00m(key) \u001b[38;5;28;01mfrom\u001b[39;00m \u001b[38;5;21;01merr\u001b[39;00m\n\u001b[1;32m   3799\u001b[0m \u001b[38;5;28;01mexcept\u001b[39;00m \u001b[38;5;167;01mTypeError\u001b[39;00m:\n\u001b[1;32m   3800\u001b[0m     \u001b[38;5;66;03m# If we have a listlike key, _check_indexing_error will raise\u001b[39;00m\n\u001b[1;32m   3801\u001b[0m     \u001b[38;5;66;03m#  InvalidIndexError. Otherwise we fall through and re-raise\u001b[39;00m\n\u001b[1;32m   3802\u001b[0m     \u001b[38;5;66;03m#  the TypeError.\u001b[39;00m\n\u001b[1;32m   3803\u001b[0m     \u001b[38;5;28mself\u001b[39m\u001b[38;5;241m.\u001b[39m_check_indexing_error(key)\n",
      "\u001b[0;31mKeyError\u001b[0m: 'UNIT CODE'"
     ]
    }
   ],
   "source": [
    "\n",
    "dir_path = 'data/'\n",
    "print(os.getcwd())\n",
    "x = 1 \n",
    "for filename in os.listdir():     \n",
    "                #readErpSummary(file_path)\n",
    "            if(os.path.isfile(filename)):\n",
    "                newfilename = f'unit_{x}.xlsx'\n",
    "                os.rename(filename, newfilename)\n",
    "                \n",
    "                #call this functions \n",
    "                readErpSummary(newfilename)\n",
    "\n",
    "                x = x+1"
   ]
  }
 ],
 "metadata": {
  "kernelspec": {
   "display_name": "examsummary",
   "language": "python",
   "name": "python3"
  },
  "language_info": {
   "codemirror_mode": {
    "name": "ipython",
    "version": 3
   },
   "file_extension": ".py",
   "mimetype": "text/x-python",
   "name": "python",
   "nbconvert_exporter": "python",
   "pygments_lexer": "ipython3",
   "version": "3.10.12"
  }
 },
 "nbformat": 4,
 "nbformat_minor": 2
}
